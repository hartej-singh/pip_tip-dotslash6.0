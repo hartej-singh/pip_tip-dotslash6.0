{
 "cells": [
  {
   "cell_type": "code",
   "execution_count": 94,
   "id": "65dbf157",
   "metadata": {
    "execution": {
     "iopub.execute_input": "2022-07-02T14:18:10.845947Z",
     "iopub.status.busy": "2022-07-02T14:18:10.845271Z",
     "iopub.status.idle": "2022-07-02T14:18:12.547269Z",
     "shell.execute_reply": "2022-07-02T14:18:12.546336Z"
    },
    "papermill": {
     "duration": 1.711799,
     "end_time": "2022-07-02T14:18:12.549829",
     "exception": false,
     "start_time": "2022-07-02T14:18:10.838030",
     "status": "completed"
    },
    "tags": []
   },
   "outputs": [],
   "source": [
    "import pandas as pd"
   ]
  },
  {
   "cell_type": "code",
   "execution_count": 95,
   "id": "314ef15b",
   "metadata": {
    "execution": {
     "iopub.execute_input": "2022-07-02T14:18:12.577148Z",
     "iopub.status.busy": "2022-07-02T14:18:12.576058Z",
     "iopub.status.idle": "2022-07-02T14:18:12.646674Z",
     "shell.execute_reply": "2022-07-02T14:18:12.645648Z"
    },
    "papermill": {
     "duration": 0.081227,
     "end_time": "2022-07-02T14:18:12.649595",
     "exception": false,
     "start_time": "2022-07-02T14:18:12.568368",
     "status": "completed"
    },
    "tags": []
   },
   "outputs": [],
   "source": [
    "df_train = pd.read_csv('Training.csv')\n",
    "df_test = pd.read_csv('Testing.csv')"
   ]
  },
  {
   "cell_type": "code",
   "execution_count": 96,
   "id": "b5cc6c5b",
   "metadata": {
    "execution": {
     "iopub.execute_input": "2022-07-02T14:18:12.666922Z",
     "iopub.status.busy": "2022-07-02T14:18:12.665971Z",
     "iopub.status.idle": "2022-07-02T14:18:12.699652Z",
     "shell.execute_reply": "2022-07-02T14:18:12.698480Z"
    },
    "papermill": {
     "duration": 0.044031,
     "end_time": "2022-07-02T14:18:12.702280",
     "exception": false,
     "start_time": "2022-07-02T14:18:12.658249",
     "status": "completed"
    },
    "tags": []
   },
   "outputs": [
    {
     "data": {
      "text/html": [
       "<div>\n",
       "<style scoped>\n",
       "    .dataframe tbody tr th:only-of-type {\n",
       "        vertical-align: middle;\n",
       "    }\n",
       "\n",
       "    .dataframe tbody tr th {\n",
       "        vertical-align: top;\n",
       "    }\n",
       "\n",
       "    .dataframe thead th {\n",
       "        text-align: right;\n",
       "    }\n",
       "</style>\n",
       "<table border=\"1\" class=\"dataframe\">\n",
       "  <thead>\n",
       "    <tr style=\"text-align: right;\">\n",
       "      <th></th>\n",
       "      <th>abdominal_pain</th>\n",
       "      <th>abnormal_menstruation</th>\n",
       "      <th>acidity</th>\n",
       "      <th>acute_liver_failure</th>\n",
       "      <th>altered_sensorium</th>\n",
       "      <th>anxiety</th>\n",
       "      <th>back_pain</th>\n",
       "      <th>belly_pain</th>\n",
       "      <th>blackheads</th>\n",
       "      <th>bladder_discomfort</th>\n",
       "      <th>...</th>\n",
       "      <th>watering_from_eyes</th>\n",
       "      <th>weakness_in_limbs</th>\n",
       "      <th>weakness_of_one_body_side</th>\n",
       "      <th>weight_gain</th>\n",
       "      <th>weight_loss</th>\n",
       "      <th>yellow_crust_ooze</th>\n",
       "      <th>yellow_urine</th>\n",
       "      <th>yellowing_of_eyes</th>\n",
       "      <th>yellowish_skin</th>\n",
       "      <th>prognosis</th>\n",
       "    </tr>\n",
       "  </thead>\n",
       "  <tbody>\n",
       "    <tr>\n",
       "      <th>0</th>\n",
       "      <td>0</td>\n",
       "      <td>0</td>\n",
       "      <td>0</td>\n",
       "      <td>0</td>\n",
       "      <td>0</td>\n",
       "      <td>0</td>\n",
       "      <td>0</td>\n",
       "      <td>0</td>\n",
       "      <td>0</td>\n",
       "      <td>0</td>\n",
       "      <td>...</td>\n",
       "      <td>0</td>\n",
       "      <td>0</td>\n",
       "      <td>0</td>\n",
       "      <td>0</td>\n",
       "      <td>0</td>\n",
       "      <td>0</td>\n",
       "      <td>0</td>\n",
       "      <td>0</td>\n",
       "      <td>0</td>\n",
       "      <td>AIDS</td>\n",
       "    </tr>\n",
       "    <tr>\n",
       "      <th>1</th>\n",
       "      <td>0</td>\n",
       "      <td>0</td>\n",
       "      <td>0</td>\n",
       "      <td>0</td>\n",
       "      <td>0</td>\n",
       "      <td>0</td>\n",
       "      <td>0</td>\n",
       "      <td>0</td>\n",
       "      <td>0</td>\n",
       "      <td>0</td>\n",
       "      <td>...</td>\n",
       "      <td>0</td>\n",
       "      <td>0</td>\n",
       "      <td>0</td>\n",
       "      <td>0</td>\n",
       "      <td>0</td>\n",
       "      <td>0</td>\n",
       "      <td>0</td>\n",
       "      <td>0</td>\n",
       "      <td>0</td>\n",
       "      <td>AIDS</td>\n",
       "    </tr>\n",
       "    <tr>\n",
       "      <th>2</th>\n",
       "      <td>0</td>\n",
       "      <td>0</td>\n",
       "      <td>0</td>\n",
       "      <td>0</td>\n",
       "      <td>0</td>\n",
       "      <td>0</td>\n",
       "      <td>0</td>\n",
       "      <td>0</td>\n",
       "      <td>0</td>\n",
       "      <td>0</td>\n",
       "      <td>...</td>\n",
       "      <td>0</td>\n",
       "      <td>0</td>\n",
       "      <td>0</td>\n",
       "      <td>0</td>\n",
       "      <td>0</td>\n",
       "      <td>0</td>\n",
       "      <td>0</td>\n",
       "      <td>0</td>\n",
       "      <td>0</td>\n",
       "      <td>AIDS</td>\n",
       "    </tr>\n",
       "    <tr>\n",
       "      <th>3</th>\n",
       "      <td>0</td>\n",
       "      <td>0</td>\n",
       "      <td>0</td>\n",
       "      <td>0</td>\n",
       "      <td>0</td>\n",
       "      <td>0</td>\n",
       "      <td>0</td>\n",
       "      <td>0</td>\n",
       "      <td>0</td>\n",
       "      <td>0</td>\n",
       "      <td>...</td>\n",
       "      <td>0</td>\n",
       "      <td>0</td>\n",
       "      <td>0</td>\n",
       "      <td>0</td>\n",
       "      <td>0</td>\n",
       "      <td>0</td>\n",
       "      <td>0</td>\n",
       "      <td>0</td>\n",
       "      <td>0</td>\n",
       "      <td>AIDS</td>\n",
       "    </tr>\n",
       "    <tr>\n",
       "      <th>4</th>\n",
       "      <td>0</td>\n",
       "      <td>0</td>\n",
       "      <td>0</td>\n",
       "      <td>0</td>\n",
       "      <td>0</td>\n",
       "      <td>0</td>\n",
       "      <td>0</td>\n",
       "      <td>0</td>\n",
       "      <td>0</td>\n",
       "      <td>0</td>\n",
       "      <td>...</td>\n",
       "      <td>0</td>\n",
       "      <td>0</td>\n",
       "      <td>0</td>\n",
       "      <td>0</td>\n",
       "      <td>0</td>\n",
       "      <td>0</td>\n",
       "      <td>0</td>\n",
       "      <td>0</td>\n",
       "      <td>0</td>\n",
       "      <td>AIDS</td>\n",
       "    </tr>\n",
       "  </tbody>\n",
       "</table>\n",
       "<p>5 rows × 135 columns</p>\n",
       "</div>"
      ],
      "text/plain": [
       "   abdominal_pain  abnormal_menstruation  acidity  acute_liver_failure  \\\n",
       "0               0                      0        0                    0   \n",
       "1               0                      0        0                    0   \n",
       "2               0                      0        0                    0   \n",
       "3               0                      0        0                    0   \n",
       "4               0                      0        0                    0   \n",
       "\n",
       "   altered_sensorium  anxiety  back_pain  belly_pain  blackheads  \\\n",
       "0                  0        0          0           0           0   \n",
       "1                  0        0          0           0           0   \n",
       "2                  0        0          0           0           0   \n",
       "3                  0        0          0           0           0   \n",
       "4                  0        0          0           0           0   \n",
       "\n",
       "   bladder_discomfort  ...  watering_from_eyes  weakness_in_limbs  \\\n",
       "0                   0  ...                   0                  0   \n",
       "1                   0  ...                   0                  0   \n",
       "2                   0  ...                   0                  0   \n",
       "3                   0  ...                   0                  0   \n",
       "4                   0  ...                   0                  0   \n",
       "\n",
       "   weakness_of_one_body_side  weight_gain  weight_loss  yellow_crust_ooze  \\\n",
       "0                          0            0            0                  0   \n",
       "1                          0            0            0                  0   \n",
       "2                          0            0            0                  0   \n",
       "3                          0            0            0                  0   \n",
       "4                          0            0            0                  0   \n",
       "\n",
       "   yellow_urine  yellowing_of_eyes  yellowish_skin  prognosis  \n",
       "0             0                  0               0       AIDS  \n",
       "1             0                  0               0       AIDS  \n",
       "2             0                  0               0       AIDS  \n",
       "3             0                  0               0       AIDS  \n",
       "4             0                  0               0       AIDS  \n",
       "\n",
       "[5 rows x 135 columns]"
      ]
     },
     "execution_count": 96,
     "metadata": {},
     "output_type": "execute_result"
    }
   ],
   "source": [
    "df_train.head()"
   ]
  },
  {
   "cell_type": "code",
   "execution_count": 97,
   "id": "fcf2513b",
   "metadata": {
    "execution": {
     "iopub.execute_input": "2022-07-02T14:18:12.730669Z",
     "iopub.status.busy": "2022-07-02T14:18:12.730280Z",
     "iopub.status.idle": "2022-07-02T14:18:12.743906Z",
     "shell.execute_reply": "2022-07-02T14:18:12.742943Z"
    },
    "papermill": {
     "duration": 0.02408,
     "end_time": "2022-07-02T14:18:12.746383",
     "exception": false,
     "start_time": "2022-07-02T14:18:12.722303",
     "status": "completed"
    },
    "tags": []
   },
   "outputs": [],
   "source": [
    "X_train_data = df_train.drop(\"prognosis\",axis=1)\n",
    "y_train_data = df_train[\"prognosis\"].copy()\n",
    "X_test = df_test.drop(\"prognosis\",axis=1)\n",
    "y_test = df_test[\"prognosis\"].copy()"
   ]
  },
  {
   "cell_type": "code",
   "execution_count": 98,
   "id": "85bbff73",
   "metadata": {
    "execution": {
     "iopub.execute_input": "2022-07-02T14:18:12.761176Z",
     "iopub.status.busy": "2022-07-02T14:18:12.760787Z",
     "iopub.status.idle": "2022-07-02T14:18:12.768885Z",
     "shell.execute_reply": "2022-07-02T14:18:12.768011Z"
    },
    "papermill": {
     "duration": 0.018091,
     "end_time": "2022-07-02T14:18:12.771225",
     "exception": false,
     "start_time": "2022-07-02T14:18:12.753134",
     "status": "completed"
    },
    "tags": []
   },
   "outputs": [
    {
     "data": {
      "text/plain": [
       "0                   AIDS\n",
       "1                   Acne\n",
       "2    Alcoholic hepatitis\n",
       "3                Allergy\n",
       "4              Arthritis\n",
       "Name: prognosis, dtype: object"
      ]
     },
     "execution_count": 98,
     "metadata": {},
     "output_type": "execute_result"
    }
   ],
   "source": [
    "y_test.head()"
   ]
  },
  {
   "cell_type": "code",
   "execution_count": 99,
   "id": "882de6b0",
   "metadata": {
    "execution": {
     "iopub.execute_input": "2022-07-02T14:18:32.578789Z",
     "iopub.status.busy": "2022-07-02T14:18:32.578075Z",
     "iopub.status.idle": "2022-07-02T14:18:32.587531Z",
     "shell.execute_reply": "2022-07-02T14:18:32.586525Z"
    },
    "jupyter": {
     "source_hidden": true
    },
    "papermill": {
     "duration": 0.023686,
     "end_time": "2022-07-02T14:18:32.590010",
     "exception": false,
     "start_time": "2022-07-02T14:18:32.566324",
     "status": "completed"
    },
    "tags": []
   },
   "outputs": [],
   "source": [
    "from sklearn.neighbors import KNeighborsClassifier\n",
    "\n",
    "knn = KNeighborsClassifier(n_neighbors = 7).fit(X_train_data, y_train_data)"
   ]
  },
  {
   "cell_type": "code",
   "execution_count": 100,
   "id": "32d64c1f",
   "metadata": {
    "execution": {
     "iopub.execute_input": "2022-07-02T14:18:32.611913Z",
     "iopub.status.busy": "2022-07-02T14:18:32.611211Z",
     "iopub.status.idle": "2022-07-02T14:18:32.629239Z",
     "shell.execute_reply": "2022-07-02T14:18:32.627722Z"
    },
    "papermill": {
     "duration": 0.033506,
     "end_time": "2022-07-02T14:18:32.633346",
     "exception": false,
     "start_time": "2022-07-02T14:18:32.599840",
     "status": "completed"
    },
    "tags": []
   },
   "outputs": [
    {
     "name": "stderr",
     "output_type": "stream",
     "text": [
      "C:\\Users\\HARTE\\AppData\\Local\\Packages\\PythonSoftwareFoundation.Python.3.8_qbz5n2kfra8p0\\LocalCache\\local-packages\\Python38\\site-packages\\sklearn\\neighbors\\_classification.py:228: FutureWarning: Unlike other reduction functions (e.g. `skew`, `kurtosis`), the default behavior of `mode` typically preserves the axis it acts along. In SciPy 1.11.0, this behavior will change: the default value of `keepdims` will become False, the `axis` over which the statistic is taken will be eliminated, and the value None will no longer be accepted. Set `keepdims` to True or False to avoid this warning.\n",
      "  mode, _ = stats.mode(_y[neigh_ind, k], axis=1)\n"
     ]
    }
   ],
   "source": [
    "knn_predictions = knn.predict(X_test)"
   ]
  },
  {
   "cell_type": "code",
   "execution_count": 101,
   "id": "7b968f32",
   "metadata": {},
   "outputs": [],
   "source": [
    "from sklearn.metrics import confusion_matrix, f1_score, accuracy_score"
   ]
  },
  {
   "cell_type": "code",
   "execution_count": 102,
   "id": "e333f20a",
   "metadata": {
    "execution": {
     "iopub.execute_input": "2022-07-02T14:18:32.673505Z",
     "iopub.status.busy": "2022-07-02T14:18:32.672750Z",
     "iopub.status.idle": "2022-07-02T14:18:32.688480Z",
     "shell.execute_reply": "2022-07-02T14:18:32.686490Z"
    },
    "papermill": {
     "duration": 0.041026,
     "end_time": "2022-07-02T14:18:32.692865",
     "exception": false,
     "start_time": "2022-07-02T14:18:32.651839",
     "status": "completed"
    },
    "tags": []
   },
   "outputs": [
    {
     "name": "stdout",
     "output_type": "stream",
     "text": [
      "Accuracy: 0.9761904761904762\n",
      "F1-score: 0.9682539682539681\n"
     ]
    }
   ],
   "source": [
    "print(\"Accuracy:\",accuracy_score(y_test, knn_predictions))\n",
    "print('F1-score:', f1_score(y_test, knn_predictions, average='macro'))"
   ]
  },
  {
   "cell_type": "code",
   "execution_count": 103,
   "id": "a2e66e7b",
   "metadata": {},
   "outputs": [],
   "source": [
    "import random\n",
    "import numpy as np\n",
    "test = []\n",
    "for i in range(134):\n",
    "    test.append(random.randint(0, 1))"
   ]
  },
  {
   "cell_type": "code",
   "execution_count": 104,
   "id": "e759588f",
   "metadata": {},
   "outputs": [],
   "source": [
    "x1 = X_test.columns\n",
    "y1 = test\n",
    "d1 = pd.DataFrame(y1,x1)\n",
    "d1 = d1.T"
   ]
  },
  {
   "cell_type": "code",
   "execution_count": 105,
   "id": "777e5334",
   "metadata": {},
   "outputs": [
    {
     "name": "stderr",
     "output_type": "stream",
     "text": [
      "C:\\Users\\HARTE\\AppData\\Local\\Packages\\PythonSoftwareFoundation.Python.3.8_qbz5n2kfra8p0\\LocalCache\\local-packages\\Python38\\site-packages\\sklearn\\neighbors\\_classification.py:228: FutureWarning: Unlike other reduction functions (e.g. `skew`, `kurtosis`), the default behavior of `mode` typically preserves the axis it acts along. In SciPy 1.11.0, this behavior will change: the default value of `keepdims` will become False, the `axis` over which the statistic is taken will be eliminated, and the value None will no longer be accepted. Set `keepdims` to True or False to avoid this warning.\n",
      "  mode, _ = stats.mode(_y[neigh_ind, k], axis=1)\n"
     ]
    }
   ],
   "source": [
    "pred = knn.predict(d1)"
   ]
  },
  {
   "cell_type": "code",
   "execution_count": 106,
   "id": "861393cf",
   "metadata": {},
   "outputs": [
    {
     "data": {
      "text/plain": [
       "array(['Common Cold'], dtype=object)"
      ]
     },
     "execution_count": 106,
     "metadata": {},
     "output_type": "execute_result"
    }
   ],
   "source": [
    "pred"
   ]
  },
  {
   "cell_type": "code",
   "execution_count": 107,
   "id": "aabdf340",
   "metadata": {},
   "outputs": [],
   "source": [
    "int_choice = [\"A\", \"B\", \"C\", \"D\", \"E\", \"F\", \"G\", \"H\", \"I\", \"J\"]"
   ]
  },
  {
   "cell_type": "code",
   "execution_count": 108,
   "id": "c70b050b",
   "metadata": {},
   "outputs": [
    {
     "data": {
      "text/plain": [
       "array(['AIDS', 'Acne', 'Alcoholic hepatitis', 'Allergy', 'Arthritis',\n",
       "       'Bronchial Asthma', 'Cervical spondylosis', 'Chicken pox',\n",
       "       'Chronic cholestasis', 'Common Cold', 'Covid', 'Dengue',\n",
       "       'Diabetes ', 'Dimorphic hemorrhoids(piles)', 'Drug Reaction',\n",
       "       'Fungal infection', 'GERD', 'Gastroenteritis', 'Heart attack',\n",
       "       'Hepatitis A', 'Hepatitis B', 'Hepatitis C', 'Hepatitis D',\n",
       "       'Hepatitis E', 'Hypertension ', 'Hyperthyroidism', 'Hypoglycemia',\n",
       "       'Hypothyroidism', 'Impetigo', 'Jaundice', 'Malaria', 'Migraine',\n",
       "       'Osteoarthritis', 'Paralysis (brain hemorrhage)',\n",
       "       'Paroxysmal Positional Vertigo', 'Peptic ulcer disease',\n",
       "       'Pneumonia', 'Psoriasis', 'Tuberculosis', 'Typhoid',\n",
       "       'Urinary tract infection', 'Varicose veins'], dtype=object)"
      ]
     },
     "execution_count": 108,
     "metadata": {},
     "output_type": "execute_result"
    }
   ],
   "source": [
    "p1 = df_train[\"prognosis\"].unique()\n",
    "p1"
   ]
  },
  {
   "cell_type": "code",
   "execution_count": 109,
   "id": "2d48a310",
   "metadata": {},
   "outputs": [
    {
     "data": {
      "text/html": [
       "<div>\n",
       "<style scoped>\n",
       "    .dataframe tbody tr th:only-of-type {\n",
       "        vertical-align: middle;\n",
       "    }\n",
       "\n",
       "    .dataframe tbody tr th {\n",
       "        vertical-align: top;\n",
       "    }\n",
       "\n",
       "    .dataframe thead th {\n",
       "        text-align: right;\n",
       "    }\n",
       "</style>\n",
       "<table border=\"1\" class=\"dataframe\">\n",
       "  <thead>\n",
       "    <tr style=\"text-align: right;\">\n",
       "      <th></th>\n",
       "      <th>Disease</th>\n",
       "      <th>int</th>\n",
       "    </tr>\n",
       "  </thead>\n",
       "  <tbody>\n",
       "    <tr>\n",
       "      <th>0</th>\n",
       "      <td>AIDS</td>\n",
       "      <td>G</td>\n",
       "    </tr>\n",
       "    <tr>\n",
       "      <th>1</th>\n",
       "      <td>Acne</td>\n",
       "      <td>H</td>\n",
       "    </tr>\n",
       "    <tr>\n",
       "      <th>2</th>\n",
       "      <td>Alcoholic hepatitis</td>\n",
       "      <td>E</td>\n",
       "    </tr>\n",
       "    <tr>\n",
       "      <th>3</th>\n",
       "      <td>Allergy</td>\n",
       "      <td>A</td>\n",
       "    </tr>\n",
       "    <tr>\n",
       "      <th>4</th>\n",
       "      <td>Arthritis</td>\n",
       "      <td>B</td>\n",
       "    </tr>\n",
       "    <tr>\n",
       "      <th>5</th>\n",
       "      <td>Bronchial Asthma</td>\n",
       "      <td>B</td>\n",
       "    </tr>\n",
       "    <tr>\n",
       "      <th>6</th>\n",
       "      <td>Cervical spondylosis</td>\n",
       "      <td>J</td>\n",
       "    </tr>\n",
       "    <tr>\n",
       "      <th>7</th>\n",
       "      <td>Chicken pox</td>\n",
       "      <td>A</td>\n",
       "    </tr>\n",
       "    <tr>\n",
       "      <th>8</th>\n",
       "      <td>Chronic cholestasis</td>\n",
       "      <td>B</td>\n",
       "    </tr>\n",
       "    <tr>\n",
       "      <th>9</th>\n",
       "      <td>Common Cold</td>\n",
       "      <td>A</td>\n",
       "    </tr>\n",
       "    <tr>\n",
       "      <th>10</th>\n",
       "      <td>Covid</td>\n",
       "      <td>E</td>\n",
       "    </tr>\n",
       "    <tr>\n",
       "      <th>11</th>\n",
       "      <td>Dengue</td>\n",
       "      <td>I</td>\n",
       "    </tr>\n",
       "    <tr>\n",
       "      <th>12</th>\n",
       "      <td>Diabetes</td>\n",
       "      <td>C</td>\n",
       "    </tr>\n",
       "    <tr>\n",
       "      <th>13</th>\n",
       "      <td>Dimorphic hemorrhoids(piles)</td>\n",
       "      <td>G</td>\n",
       "    </tr>\n",
       "    <tr>\n",
       "      <th>14</th>\n",
       "      <td>Drug Reaction</td>\n",
       "      <td>B</td>\n",
       "    </tr>\n",
       "    <tr>\n",
       "      <th>15</th>\n",
       "      <td>Fungal infection</td>\n",
       "      <td>C</td>\n",
       "    </tr>\n",
       "    <tr>\n",
       "      <th>16</th>\n",
       "      <td>GERD</td>\n",
       "      <td>A</td>\n",
       "    </tr>\n",
       "    <tr>\n",
       "      <th>17</th>\n",
       "      <td>Gastroenteritis</td>\n",
       "      <td>H</td>\n",
       "    </tr>\n",
       "    <tr>\n",
       "      <th>18</th>\n",
       "      <td>Heart attack</td>\n",
       "      <td>J</td>\n",
       "    </tr>\n",
       "    <tr>\n",
       "      <th>19</th>\n",
       "      <td>Hepatitis A</td>\n",
       "      <td>I</td>\n",
       "    </tr>\n",
       "    <tr>\n",
       "      <th>20</th>\n",
       "      <td>Hepatitis B</td>\n",
       "      <td>E</td>\n",
       "    </tr>\n",
       "    <tr>\n",
       "      <th>21</th>\n",
       "      <td>Hepatitis C</td>\n",
       "      <td>I</td>\n",
       "    </tr>\n",
       "    <tr>\n",
       "      <th>22</th>\n",
       "      <td>Hepatitis D</td>\n",
       "      <td>B</td>\n",
       "    </tr>\n",
       "    <tr>\n",
       "      <th>23</th>\n",
       "      <td>Hepatitis E</td>\n",
       "      <td>H</td>\n",
       "    </tr>\n",
       "    <tr>\n",
       "      <th>24</th>\n",
       "      <td>Hypertension</td>\n",
       "      <td>G</td>\n",
       "    </tr>\n",
       "    <tr>\n",
       "      <th>25</th>\n",
       "      <td>Hyperthyroidism</td>\n",
       "      <td>C</td>\n",
       "    </tr>\n",
       "    <tr>\n",
       "      <th>26</th>\n",
       "      <td>Hypoglycemia</td>\n",
       "      <td>A</td>\n",
       "    </tr>\n",
       "    <tr>\n",
       "      <th>27</th>\n",
       "      <td>Hypothyroidism</td>\n",
       "      <td>H</td>\n",
       "    </tr>\n",
       "    <tr>\n",
       "      <th>28</th>\n",
       "      <td>Impetigo</td>\n",
       "      <td>H</td>\n",
       "    </tr>\n",
       "    <tr>\n",
       "      <th>29</th>\n",
       "      <td>Jaundice</td>\n",
       "      <td>H</td>\n",
       "    </tr>\n",
       "    <tr>\n",
       "      <th>30</th>\n",
       "      <td>Malaria</td>\n",
       "      <td>F</td>\n",
       "    </tr>\n",
       "    <tr>\n",
       "      <th>31</th>\n",
       "      <td>Migraine</td>\n",
       "      <td>H</td>\n",
       "    </tr>\n",
       "    <tr>\n",
       "      <th>32</th>\n",
       "      <td>Osteoarthritis</td>\n",
       "      <td>D</td>\n",
       "    </tr>\n",
       "    <tr>\n",
       "      <th>33</th>\n",
       "      <td>Paralysis (brain hemorrhage)</td>\n",
       "      <td>A</td>\n",
       "    </tr>\n",
       "    <tr>\n",
       "      <th>34</th>\n",
       "      <td>Paroxysmal Positional Vertigo</td>\n",
       "      <td>B</td>\n",
       "    </tr>\n",
       "    <tr>\n",
       "      <th>35</th>\n",
       "      <td>Peptic ulcer disease</td>\n",
       "      <td>J</td>\n",
       "    </tr>\n",
       "    <tr>\n",
       "      <th>36</th>\n",
       "      <td>Pneumonia</td>\n",
       "      <td>C</td>\n",
       "    </tr>\n",
       "    <tr>\n",
       "      <th>37</th>\n",
       "      <td>Psoriasis</td>\n",
       "      <td>A</td>\n",
       "    </tr>\n",
       "    <tr>\n",
       "      <th>38</th>\n",
       "      <td>Tuberculosis</td>\n",
       "      <td>A</td>\n",
       "    </tr>\n",
       "    <tr>\n",
       "      <th>39</th>\n",
       "      <td>Typhoid</td>\n",
       "      <td>B</td>\n",
       "    </tr>\n",
       "    <tr>\n",
       "      <th>40</th>\n",
       "      <td>Urinary tract infection</td>\n",
       "      <td>C</td>\n",
       "    </tr>\n",
       "    <tr>\n",
       "      <th>41</th>\n",
       "      <td>Varicose veins</td>\n",
       "      <td>H</td>\n",
       "    </tr>\n",
       "  </tbody>\n",
       "</table>\n",
       "</div>"
      ],
      "text/plain": [
       "                          Disease int\n",
       "0                            AIDS   G\n",
       "1                            Acne   H\n",
       "2             Alcoholic hepatitis   E\n",
       "3                         Allergy   A\n",
       "4                       Arthritis   B\n",
       "5                Bronchial Asthma   B\n",
       "6            Cervical spondylosis   J\n",
       "7                     Chicken pox   A\n",
       "8             Chronic cholestasis   B\n",
       "9                     Common Cold   A\n",
       "10                          Covid   E\n",
       "11                         Dengue   I\n",
       "12                      Diabetes    C\n",
       "13   Dimorphic hemorrhoids(piles)   G\n",
       "14                  Drug Reaction   B\n",
       "15               Fungal infection   C\n",
       "16                           GERD   A\n",
       "17                Gastroenteritis   H\n",
       "18                   Heart attack   J\n",
       "19                    Hepatitis A   I\n",
       "20                    Hepatitis B   E\n",
       "21                    Hepatitis C   I\n",
       "22                    Hepatitis D   B\n",
       "23                    Hepatitis E   H\n",
       "24                  Hypertension    G\n",
       "25                Hyperthyroidism   C\n",
       "26                   Hypoglycemia   A\n",
       "27                 Hypothyroidism   H\n",
       "28                       Impetigo   H\n",
       "29                       Jaundice   H\n",
       "30                        Malaria   F\n",
       "31                       Migraine   H\n",
       "32                 Osteoarthritis   D\n",
       "33   Paralysis (brain hemorrhage)   A\n",
       "34  Paroxysmal Positional Vertigo   B\n",
       "35           Peptic ulcer disease   J\n",
       "36                      Pneumonia   C\n",
       "37                      Psoriasis   A\n",
       "38                   Tuberculosis   A\n",
       "39                        Typhoid   B\n",
       "40        Urinary tract infection   C\n",
       "41                 Varicose veins   H"
      ]
     },
     "execution_count": 109,
     "metadata": {},
     "output_type": "execute_result"
    }
   ],
   "source": [
    "temp = []\n",
    "for i in range(len(p1)):\n",
    "    temp.append(random.choice(int_choice))\n",
    "temp\n",
    "refer = {\"Disease\":p1,\"int\":temp}\n",
    "pd.DataFrame(refer)"
   ]
  },
  {
   "cell_type": "markdown",
   "id": "c932fcd1",
   "metadata": {
    "papermill": {
     "duration": 0.010219,
     "end_time": "2022-07-02T14:18:33.188813",
     "exception": false,
     "start_time": "2022-07-02T14:18:33.178594",
     "status": "completed"
    },
    "tags": []
   },
   "source": [
    "## Save"
   ]
  },
  {
   "cell_type": "code",
   "execution_count": 110,
   "id": "4a5bd2c7",
   "metadata": {
    "execution": {
     "iopub.execute_input": "2022-07-02T14:18:33.211854Z",
     "iopub.status.busy": "2022-07-02T14:18:33.211442Z",
     "iopub.status.idle": "2022-07-02T14:18:33.217605Z",
     "shell.execute_reply": "2022-07-02T14:18:33.216473Z"
    },
    "papermill": {
     "duration": 0.020408,
     "end_time": "2022-07-02T14:18:33.219892",
     "exception": false,
     "start_time": "2022-07-02T14:18:33.199484",
     "status": "completed"
    },
    "tags": []
   },
   "outputs": [],
   "source": [
    "import pickle\n",
    "with open('model_pickle','wb') as f:\n",
    "    pickle.dump(knn,f)"
   ]
  },
  {
   "cell_type": "code",
   "execution_count": null,
   "id": "a209c067",
   "metadata": {},
   "outputs": [],
   "source": []
  }
 ],
 "metadata": {
  "kernelspec": {
   "display_name": "Python 3",
   "language": "python",
   "name": "python3"
  },
  "language_info": {
   "codemirror_mode": {
    "name": "ipython",
    "version": 3
   },
   "file_extension": ".py",
   "mimetype": "text/x-python",
   "name": "python",
   "nbconvert_exporter": "python",
   "pygments_lexer": "ipython3",
   "version": "3.8.10"
  },
  "papermill": {
   "default_parameters": {},
   "duration": 33.044304,
   "end_time": "2022-07-02T14:18:34.053678",
   "environment_variables": {},
   "exception": null,
   "input_path": "__notebook__.ipynb",
   "output_path": "__notebook__.ipynb",
   "parameters": {},
   "start_time": "2022-07-02T14:18:01.009374",
   "version": "2.3.4"
  },
  "vscode": {
   "interpreter": {
    "hash": "7669e416fee49992ba4d729b4159423861d64ee4fe228e95b26a416ba04bfcd3"
   }
  }
 },
 "nbformat": 4,
 "nbformat_minor": 5
}
