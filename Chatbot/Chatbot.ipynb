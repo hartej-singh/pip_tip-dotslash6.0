{
 "cells": [
  {
   "cell_type": "markdown",
   "metadata": {
    "id": "L7sgFxPzDOOM"
   },
   "source": [
    "### Retrieval-based Chatbot building with help of Natural Language Processing (NLP) using NLTK and Deep Learning.\n",
    "\n"
   ]
  },
  {
   "cell_type": "code",
   "execution_count": 1,
   "metadata": {
    "colab": {
     "base_uri": "https://localhost:8080/"
    },
    "id": "-SQHZ5Jqnm2q",
    "outputId": "214f3eb3-194f-481c-aa50-040187188d3a"
   },
   "outputs": [
    {
     "name": "stderr",
     "output_type": "stream",
     "text": [
      "[nltk_data] Error loading wordnet: <urlopen error [WinError 10060] A\n",
      "[nltk_data]     connection attempt failed because the connected party\n",
      "[nltk_data]     did not properly respond after a period of time, or\n",
      "[nltk_data]     established connection failed because connected host\n",
      "[nltk_data]     has failed to respond>\n",
      "[nltk_data] Error loading punkt: <urlopen error [WinError 10060] A\n",
      "[nltk_data]     connection attempt failed because the connected party\n",
      "[nltk_data]     did not properly respond after a period of time, or\n",
      "[nltk_data]     established connection failed because connected host\n",
      "[nltk_data]     has failed to respond>\n"
     ]
    }
   ],
   "source": [
    "# Libraries needed for NLP\n",
    "import nltk\n",
    "from nltk.stem import WordNetLemmatizer\n",
    "nltk.download('wordnet')\n",
    "lemmatizer = WordNetLemmatizer()\n",
    "nltk.download('punkt')\n",
    "\n",
    "# Libraries needed for Tensorflow processing\n",
    "import tensorflow as tf\n",
    "import numpy as np\n",
    "from keras.models import Sequential\n",
    "from keras.layers import Dense, Activation, Dropout\n",
    "from tensorflow.keras.optimizers import SGD\n",
    "import random\n",
    "import json"
   ]
  },
  {
   "cell_type": "code",
   "execution_count": 2,
   "metadata": {
    "colab": {
     "base_uri": "https://localhost:8080/",
     "height": 73,
     "resources": {
      "http://localhost:8080/nbextensions/google.colab/files.js": {
       "data": "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",
       "headers": [
        [
         "content-type",
         "application/javascript"
        ]
       ],
       "ok": true,
       "status": 200,
       "status_text": ""
      }
     }
    },
    "id": "7JnXKVLFnxRy",
    "outputId": "f3fe7741-e5b4-4cd5-c599-d7146ea2a1b9"
   },
   "outputs": [],
   "source": [
    "# import our chat-bot intents file\n",
    "with open('intents.json') as json_data:\n",
    "    intents = json.load(json_data)"
   ]
  },
  {
   "cell_type": "code",
   "execution_count": 3,
   "metadata": {
    "colab": {
     "base_uri": "https://localhost:8080/"
    },
    "id": "8dsb2V2en23q",
    "outputId": "9f12a127-4640-4984-a24a-79352378fbad"
   },
   "outputs": [
    {
     "name": "stdout",
     "output_type": "stream",
     "text": [
      "43 documents\n",
      "9 classes ['developers', 'doctorstype', 'fun', 'goodbye', 'greeting', 'hours', 'noanswer', 'options', 'thanks']\n",
      "66 unique stemmed words ['123', '555', 'again', 'anyone', 'are', 'be', 'bye', 'byeee', 'can', 'close', 'could', 'day', 'developer', 'do', 'doctor', 'ffff', 'go', 'good', 'goodbye', 'have', 'hello', 'help', 'helpful', 'hey', 'hi', 'hour', 'how', 'i', 'is', 'it', 'kind', 'later', 'listed', 'made', 'me', 'meet', 'new', 'nice', 'nnnn', 'of', 'offered', 'open', 'origin', 'provide', 'real', 'really', 's', 'see', 'speciality', 'sup', 'support', 'thank', 'thanks', 'that', 'there', 'to', 'u', 'up', 'what', 'when', 'which', 'who', 'will', 'yo', 'you', 'your']\n"
     ]
    }
   ],
   "source": [
    "words = []\n",
    "classes = []\n",
    "documents = []\n",
    "ignore = ['?',\"'s\",'!','.']\n",
    "# loop through each sentence in the intent's patterns\n",
    "for intent in intents['intents']:\n",
    "    for pattern in intent['patterns']:\n",
    "        # tokenize each and every word in the sentence\n",
    "        w = nltk.word_tokenize(pattern)\n",
    "        # add word to the words list\n",
    "        words.extend(w)\n",
    "        # add word(s) to documents\n",
    "        documents.append((w, intent['tag']))\n",
    "        # add tags to our classes list\n",
    "        if intent['tag'] not in classes:\n",
    "            classes.append(intent['tag'])\n",
    "\n",
    "# Perform lemmation and lower each word as well as remove duplicates\n",
    "words = [lemmatizer.lemmatize(w.lower()) for w in words if w not in ignore]\n",
    "words = sorted(list(set(words)))\n",
    "\n",
    "# remove duplicate classes\n",
    "classes = sorted(list(set(classes)))\n",
    "\n",
    "print (len(documents), \"documents\")\n",
    "print (len(classes), \"classes\", classes)\n",
    "print (len(words), \"unique stemmed words\", words)"
   ]
  },
  {
   "cell_type": "code",
   "execution_count": 4,
   "metadata": {
    "colab": {
     "base_uri": "https://localhost:8080/"
    },
    "id": "4HKhNotxoJMX",
    "outputId": "44aa9546-aeff-4ae0-d74c-0c165a58d5a6"
   },
   "outputs": [
    {
     "name": "stderr",
     "output_type": "stream",
     "text": [
      "C:\\Users\\HARTE\\AppData\\Local\\Temp/ipykernel_27416/311820709.py:28: VisibleDeprecationWarning: Creating an ndarray from ragged nested sequences (which is a list-or-tuple of lists-or-tuples-or ndarrays with different lengths or shapes) is deprecated. If you meant to do this, you must specify 'dtype=object' when creating the ndarray.\n",
      "  training = np.array(training)\n"
     ]
    }
   ],
   "source": [
    "# create training data\n",
    "training = []\n",
    "output = []\n",
    "# create an empty array for output\n",
    "output_empty = [0] * len(classes)\n",
    "\n",
    "# create training set, bag of words for each sentence\n",
    "for doc in documents:\n",
    "    # initialize bag of words\n",
    "    bag = []\n",
    "    # list of tokenized words for the pattern\n",
    "    pattern_words = doc[0]\n",
    "    # stemming each word\n",
    "    pattern_words = [lemmatizer.lemmatize(w.lower()) for w in pattern_words]\n",
    "    # create bag of words array\n",
    "\n",
    "    for w in words:\n",
    "        bag.append(1) if w in pattern_words else bag.append(0)\n",
    "\n",
    "    # output is '1' for current tag and '0' for rest of other tags\n",
    "    output_row = list(output_empty)\n",
    "    output_row[classes.index(doc[1])] = 1\n",
    "\n",
    "    training.append([bag, output_row])\n",
    "\n",
    "# shuffling features and turning it into np.array\n",
    "random.shuffle(training)\n",
    "training = np.array(training)\n",
    "\n",
    "# creating training lists\n",
    "train_x = list(training[:,0])\n",
    "train_y = list(training[:,1])"
   ]
  },
  {
   "cell_type": "code",
   "execution_count": 5,
   "metadata": {
    "id": "WO-klYCtokQm"
   },
   "outputs": [
    {
     "name": "stderr",
     "output_type": "stream",
     "text": [
      "c:\\ProgramData\\Anaconda3\\lib\\site-packages\\keras\\optimizer_v2\\gradient_descent.py:102: UserWarning: The `lr` argument is deprecated, use `learning_rate` instead.\n",
      "  super(SGD, self).__init__(name, **kwargs)\n"
     ]
    },
    {
     "name": "stdout",
     "output_type": "stream",
     "text": [
      "Epoch 1/100\n",
      "9/9 [==============================] - 2s 3ms/step - loss: 2.2454 - accuracy: 0.0698\n",
      "Epoch 2/100\n",
      "9/9 [==============================] - 0s 3ms/step - loss: 2.1562 - accuracy: 0.1860\n",
      "Epoch 3/100\n",
      "9/9 [==============================] - 0s 4ms/step - loss: 2.2185 - accuracy: 0.0930\n",
      "Epoch 4/100\n",
      "9/9 [==============================] - 0s 3ms/step - loss: 2.1892 - accuracy: 0.1163\n",
      "Epoch 5/100\n",
      "9/9 [==============================] - 0s 3ms/step - loss: 2.1937 - accuracy: 0.1395\n",
      "Epoch 6/100\n",
      "9/9 [==============================] - 0s 3ms/step - loss: 2.2046 - accuracy: 0.1628\n",
      "Epoch 7/100\n",
      "9/9 [==============================] - 0s 2ms/step - loss: 2.1506 - accuracy: 0.1860\n",
      "Epoch 8/100\n",
      "9/9 [==============================] - 0s 4ms/step - loss: 2.1509 - accuracy: 0.1860\n",
      "Epoch 9/100\n",
      "9/9 [==============================] - 0s 3ms/step - loss: 2.1628 - accuracy: 0.2093\n",
      "Epoch 10/100\n",
      "9/9 [==============================] - 0s 2ms/step - loss: 2.1613 - accuracy: 0.1860\n",
      "Epoch 11/100\n",
      "9/9 [==============================] - 0s 2ms/step - loss: 2.1661 - accuracy: 0.2558\n",
      "Epoch 12/100\n",
      "9/9 [==============================] - 0s 3ms/step - loss: 2.0896 - accuracy: 0.2558\n",
      "Epoch 13/100\n",
      "9/9 [==============================] - 0s 2ms/step - loss: 2.1063 - accuracy: 0.2326\n",
      "Epoch 14/100\n",
      "9/9 [==============================] - 0s 3ms/step - loss: 2.1186 - accuracy: 0.2326\n",
      "Epoch 15/100\n",
      "9/9 [==============================] - 0s 2ms/step - loss: 2.0922 - accuracy: 0.3023\n",
      "Epoch 16/100\n",
      "9/9 [==============================] - 0s 3ms/step - loss: 2.0903 - accuracy: 0.3023\n",
      "Epoch 17/100\n",
      "9/9 [==============================] - 0s 3ms/step - loss: 2.1199 - accuracy: 0.2326\n",
      "Epoch 18/100\n",
      "9/9 [==============================] - 0s 3ms/step - loss: 2.0609 - accuracy: 0.3488\n",
      "Epoch 19/100\n",
      "9/9 [==============================] - 0s 3ms/step - loss: 2.0887 - accuracy: 0.2326\n",
      "Epoch 20/100\n",
      "9/9 [==============================] - 0s 3ms/step - loss: 2.0492 - accuracy: 0.2791\n",
      "Epoch 21/100\n",
      "9/9 [==============================] - 0s 3ms/step - loss: 2.0065 - accuracy: 0.3256\n",
      "Epoch 22/100\n",
      "9/9 [==============================] - 0s 3ms/step - loss: 2.0788 - accuracy: 0.3023\n",
      "Epoch 23/100\n",
      "9/9 [==============================] - 0s 3ms/step - loss: 2.0573 - accuracy: 0.3023\n",
      "Epoch 24/100\n",
      "9/9 [==============================] - 0s 3ms/step - loss: 2.0606 - accuracy: 0.2326\n",
      "Epoch 25/100\n",
      "9/9 [==============================] - 0s 3ms/step - loss: 2.0307 - accuracy: 0.2791\n",
      "Epoch 26/100\n",
      "9/9 [==============================] - 0s 3ms/step - loss: 1.9649 - accuracy: 0.3023\n",
      "Epoch 27/100\n",
      "9/9 [==============================] - 0s 3ms/step - loss: 2.0167 - accuracy: 0.2791\n",
      "Epoch 28/100\n",
      "9/9 [==============================] - 0s 3ms/step - loss: 2.0378 - accuracy: 0.2791\n",
      "Epoch 29/100\n",
      "9/9 [==============================] - 0s 2ms/step - loss: 1.9251 - accuracy: 0.3488\n",
      "Epoch 30/100\n",
      "9/9 [==============================] - 0s 3ms/step - loss: 1.9744 - accuracy: 0.3721\n",
      "Epoch 31/100\n",
      "9/9 [==============================] - 0s 2ms/step - loss: 1.9811 - accuracy: 0.3023\n",
      "Epoch 32/100\n",
      "9/9 [==============================] - 0s 3ms/step - loss: 1.9504 - accuracy: 0.3023\n",
      "Epoch 33/100\n",
      "9/9 [==============================] - 0s 2ms/step - loss: 1.9800 - accuracy: 0.3256\n",
      "Epoch 34/100\n",
      "9/9 [==============================] - 0s 2ms/step - loss: 1.9020 - accuracy: 0.2791\n",
      "Epoch 35/100\n",
      "9/9 [==============================] - 0s 2ms/step - loss: 1.8920 - accuracy: 0.3256\n",
      "Epoch 36/100\n",
      "9/9 [==============================] - 0s 2ms/step - loss: 1.9035 - accuracy: 0.3256\n",
      "Epoch 37/100\n",
      "9/9 [==============================] - 0s 3ms/step - loss: 1.9527 - accuracy: 0.3023\n",
      "Epoch 38/100\n",
      "9/9 [==============================] - 0s 3ms/step - loss: 1.8911 - accuracy: 0.3256\n",
      "Epoch 39/100\n",
      "9/9 [==============================] - 0s 3ms/step - loss: 1.8749 - accuracy: 0.3721\n",
      "Epoch 40/100\n",
      "9/9 [==============================] - 0s 3ms/step - loss: 1.9355 - accuracy: 0.3488\n",
      "Epoch 41/100\n",
      "9/9 [==============================] - 0s 3ms/step - loss: 1.8525 - accuracy: 0.3488\n",
      "Epoch 42/100\n",
      "9/9 [==============================] - 0s 3ms/step - loss: 1.8677 - accuracy: 0.3953\n",
      "Epoch 43/100\n",
      "9/9 [==============================] - 0s 2ms/step - loss: 1.8336 - accuracy: 0.3023\n",
      "Epoch 44/100\n",
      "9/9 [==============================] - 0s 3ms/step - loss: 1.9032 - accuracy: 0.3256\n",
      "Epoch 45/100\n",
      "9/9 [==============================] - 0s 2ms/step - loss: 1.8471 - accuracy: 0.3953\n",
      "Epoch 46/100\n",
      "9/9 [==============================] - 0s 3ms/step - loss: 1.8874 - accuracy: 0.3488\n",
      "Epoch 47/100\n",
      "9/9 [==============================] - 0s 3ms/step - loss: 1.8472 - accuracy: 0.2791\n",
      "Epoch 48/100\n",
      "9/9 [==============================] - 0s 3ms/step - loss: 1.8190 - accuracy: 0.3953\n",
      "Epoch 49/100\n",
      "9/9 [==============================] - 0s 2ms/step - loss: 1.8632 - accuracy: 0.3256\n",
      "Epoch 50/100\n",
      "9/9 [==============================] - 0s 2ms/step - loss: 1.7717 - accuracy: 0.3023\n",
      "Epoch 51/100\n",
      "9/9 [==============================] - 0s 3ms/step - loss: 1.8451 - accuracy: 0.3488\n",
      "Epoch 52/100\n",
      "9/9 [==============================] - 0s 3ms/step - loss: 1.8653 - accuracy: 0.3488\n",
      "Epoch 53/100\n",
      "9/9 [==============================] - 0s 3ms/step - loss: 1.8553 - accuracy: 0.3023\n",
      "Epoch 54/100\n",
      "9/9 [==============================] - 0s 3ms/step - loss: 1.8371 - accuracy: 0.3721\n",
      "Epoch 55/100\n",
      "9/9 [==============================] - 0s 3ms/step - loss: 1.8058 - accuracy: 0.3256\n",
      "Epoch 56/100\n",
      "9/9 [==============================] - 0s 3ms/step - loss: 1.7764 - accuracy: 0.4186\n",
      "Epoch 57/100\n",
      "9/9 [==============================] - 0s 3ms/step - loss: 1.8084 - accuracy: 0.3721\n",
      "Epoch 58/100\n",
      "9/9 [==============================] - 0s 3ms/step - loss: 1.8062 - accuracy: 0.3488\n",
      "Epoch 59/100\n",
      "9/9 [==============================] - 0s 3ms/step - loss: 1.7820 - accuracy: 0.4186\n",
      "Epoch 60/100\n",
      "9/9 [==============================] - 0s 3ms/step - loss: 1.7104 - accuracy: 0.4186\n",
      "Epoch 61/100\n",
      "9/9 [==============================] - 0s 2ms/step - loss: 1.7148 - accuracy: 0.4419\n",
      "Epoch 62/100\n",
      "9/9 [==============================] - 0s 3ms/step - loss: 1.7363 - accuracy: 0.3721\n",
      "Epoch 63/100\n",
      "9/9 [==============================] - 0s 2ms/step - loss: 1.8271 - accuracy: 0.3256\n",
      "Epoch 64/100\n",
      "9/9 [==============================] - 0s 3ms/step - loss: 1.7069 - accuracy: 0.3721\n",
      "Epoch 65/100\n",
      "9/9 [==============================] - 0s 2ms/step - loss: 1.7477 - accuracy: 0.3488\n",
      "Epoch 66/100\n",
      "9/9 [==============================] - 0s 3ms/step - loss: 1.7292 - accuracy: 0.4419\n",
      "Epoch 67/100\n",
      "9/9 [==============================] - 0s 3ms/step - loss: 1.7735 - accuracy: 0.4186\n",
      "Epoch 68/100\n",
      "9/9 [==============================] - 0s 2ms/step - loss: 1.7345 - accuracy: 0.4186\n",
      "Epoch 69/100\n",
      "9/9 [==============================] - 0s 3ms/step - loss: 1.6298 - accuracy: 0.4186\n",
      "Epoch 70/100\n",
      "9/9 [==============================] - 0s 2ms/step - loss: 1.6268 - accuracy: 0.3721\n",
      "Epoch 71/100\n",
      "9/9 [==============================] - 0s 2ms/step - loss: 1.7128 - accuracy: 0.3953\n",
      "Epoch 72/100\n",
      "9/9 [==============================] - 0s 3ms/step - loss: 1.7113 - accuracy: 0.4186\n",
      "Epoch 73/100\n",
      "9/9 [==============================] - 0s 3ms/step - loss: 1.7095 - accuracy: 0.4186\n",
      "Epoch 74/100\n",
      "9/9 [==============================] - 0s 3ms/step - loss: 1.5352 - accuracy: 0.5349\n",
      "Epoch 75/100\n",
      "9/9 [==============================] - 0s 3ms/step - loss: 1.6527 - accuracy: 0.3953\n",
      "Epoch 76/100\n",
      "9/9 [==============================] - 0s 2ms/step - loss: 1.6140 - accuracy: 0.4884\n",
      "Epoch 77/100\n",
      "9/9 [==============================] - 0s 3ms/step - loss: 1.6240 - accuracy: 0.5116\n",
      "Epoch 78/100\n",
      "9/9 [==============================] - 0s 2ms/step - loss: 1.7005 - accuracy: 0.3953\n",
      "Epoch 79/100\n",
      "9/9 [==============================] - 0s 3ms/step - loss: 1.7065 - accuracy: 0.4186\n",
      "Epoch 80/100\n",
      "9/9 [==============================] - 0s 3ms/step - loss: 1.6477 - accuracy: 0.3953\n",
      "Epoch 81/100\n",
      "9/9 [==============================] - 0s 3ms/step - loss: 1.7137 - accuracy: 0.3721\n",
      "Epoch 82/100\n",
      "9/9 [==============================] - 0s 3ms/step - loss: 1.5566 - accuracy: 0.5581\n",
      "Epoch 83/100\n",
      "9/9 [==============================] - 0s 2ms/step - loss: 1.6574 - accuracy: 0.4186\n",
      "Epoch 84/100\n",
      "9/9 [==============================] - 0s 2ms/step - loss: 1.7066 - accuracy: 0.4419\n",
      "Epoch 85/100\n",
      "9/9 [==============================] - 0s 2ms/step - loss: 1.6796 - accuracy: 0.4186\n",
      "Epoch 86/100\n",
      "9/9 [==============================] - 0s 3ms/step - loss: 1.5368 - accuracy: 0.4884\n",
      "Epoch 87/100\n",
      "9/9 [==============================] - 0s 2ms/step - loss: 1.6531 - accuracy: 0.3488\n",
      "Epoch 88/100\n",
      "9/9 [==============================] - 0s 2ms/step - loss: 1.6028 - accuracy: 0.3953\n",
      "Epoch 89/100\n",
      "9/9 [==============================] - 0s 3ms/step - loss: 1.5151 - accuracy: 0.4651\n",
      "Epoch 90/100\n",
      "9/9 [==============================] - 0s 3ms/step - loss: 1.5512 - accuracy: 0.5116\n",
      "Epoch 91/100\n",
      "9/9 [==============================] - 0s 3ms/step - loss: 1.4958 - accuracy: 0.4884\n",
      "Epoch 92/100\n",
      "9/9 [==============================] - 0s 3ms/step - loss: 1.5675 - accuracy: 0.4186\n",
      "Epoch 93/100\n",
      "9/9 [==============================] - 0s 3ms/step - loss: 1.4958 - accuracy: 0.4651\n",
      "Epoch 94/100\n",
      "9/9 [==============================] - 0s 3ms/step - loss: 1.5151 - accuracy: 0.5116\n",
      "Epoch 95/100\n",
      "9/9 [==============================] - 0s 3ms/step - loss: 1.5875 - accuracy: 0.4651\n",
      "Epoch 96/100\n",
      "9/9 [==============================] - 0s 2ms/step - loss: 1.4776 - accuracy: 0.4884\n",
      "Epoch 97/100\n",
      "9/9 [==============================] - 0s 2ms/step - loss: 1.5417 - accuracy: 0.4419\n",
      "Epoch 98/100\n",
      "9/9 [==============================] - 0s 2ms/step - loss: 1.4526 - accuracy: 0.5349\n",
      "Epoch 99/100\n",
      "9/9 [==============================] - 0s 3ms/step - loss: 1.4040 - accuracy: 0.5116\n",
      "Epoch 100/100\n",
      "9/9 [==============================] - 0s 3ms/step - loss: 1.5047 - accuracy: 0.5116\n",
      "model created\n"
     ]
    }
   ],
   "source": [
    "# Create model - 3 layers. First layer 128 neurons, second layer 64 neurons and 3rd output layer contains number of neurons\n",
    "# equal to number of intents to predict output intent with softmax\n",
    "model = Sequential()\n",
    "model.add(Dense(128, input_shape=(len(train_x[0]),), activation='relu'))\n",
    "model.add(Dropout(0.5))\n",
    "model.add(Dense(64, activation='relu'))\n",
    "model.add(Dropout(0.5))\n",
    "model.add(Dense(len(train_y[0]), activation='softmax'))\n",
    "# Compile model. Stochastic gradient descent with Nesterov accelerated gradient gives good results for this model\n",
    "sgd = SGD(lr=0.001, decay=1e-6, momentum=0.9, nesterov=True)\n",
    "\n",
    "model.compile(loss='categorical_crossentropy', optimizer='sgd', metrics=['accuracy'])\n",
    "#fitting and saving the model \n",
    "hist = model.fit(np.array(train_x), np.array(train_y), epochs=100, batch_size=5, verbose=1)\n",
    "model.save('chatbot_model.h5', hist)\n",
    "print(\"model created\")"
   ]
  },
  {
   "cell_type": "code",
   "execution_count": 6,
   "metadata": {
    "colab": {
     "base_uri": "https://localhost:8080/"
    },
    "id": "A90Hx1S0rj22",
    "outputId": "887f4e6a-fac3-44de-f5b6-cf2f34b57303"
   },
   "outputs": [
    {
     "name": "stdout",
     "output_type": "stream",
     "text": [
      "1.5046833753585815 0.5116279125213623\n"
     ]
    }
   ],
   "source": [
    "print(hist.history['loss'][-1],hist.history['accuracy'][-1])\n"
   ]
  },
  {
   "cell_type": "code",
   "execution_count": 7,
   "metadata": {
    "id": "-Vp1Y4RAo7Ob"
   },
   "outputs": [],
   "source": [
    "import pickle\n",
    "pickle.dump( {'words':words, 'classes':classes}, open( \"training_data\", \"wb\" ) )\n",
    "# restoring all the data structures\n",
    "data = pickle.load( open(\"training_data\", \"rb\"))\n",
    "words = data['words']\n",
    "classes = data['classes']\n",
    "\n",
    "with open('intents.json') as json_data:\n",
    "    intents = json.load(json_data)"
   ]
  },
  {
   "cell_type": "code",
   "execution_count": 8,
   "metadata": {
    "id": "YGLI6utGpPPy"
   },
   "outputs": [],
   "source": [
    "def clean_up_sentence(sentence):\n",
    "    # tokenizing the pattern\n",
    "    sentence_words = nltk.word_tokenize(sentence)\n",
    "    # stemming each word\n",
    "    sentence_words = [lemmatizer.lemmatize(w.lower()) for w in sentence_words]\n",
    "    return sentence_words\n",
    "\n",
    "# returning bag of words array: 0 or 1 for each word in the bag that exists in the sentence\n",
    "def bow(sentence, words, show_details=False):\n",
    "    # tokenizing the pattern\n",
    "    sentence_words = clean_up_sentence(sentence)\n",
    "    # generating bag of words\n",
    "    bag = [0]*len(words)  \n",
    "\n",
    "    for s in sentence_words:\n",
    "        for i,w in enumerate(words):\n",
    "            if w == s: \n",
    "                bag[i] = 1\n",
    "                if show_details:\n",
    "                    print (\"found in bag: %s\" % w)\n",
    "\n",
    "    return(np.array(bag))"
   ]
  },
  {
   "cell_type": "code",
   "execution_count": 9,
   "metadata": {
    "id": "MP-yFSw5pSmF"
   },
   "outputs": [],
   "source": [
    "ERROR_THRESHOLD = 0.30\n",
    "from keras.models import load_model\n",
    "model = load_model('chatbot_model.h5')\n",
    "\n",
    "def classify(sentence):\n",
    "    # generate probabilities from the model\n",
    "    p = bow(sentence, words)\n",
    "    results = model.predict(np.array([p]))[0]\n",
    "    # filter out predictions below a threshold\n",
    "    results = [[i,r] for i,r in enumerate(results) if r>ERROR_THRESHOLD]\n",
    "    # sort by strength of probability\n",
    "    results.sort(key=lambda x: x[1], reverse=True)\n",
    "    return_list = []\n",
    "    for r in results:\n",
    "        return_list.append((classes[r[0]], r[1]))\n",
    "    # return tuple of intent and probability\n",
    "    return return_list\n",
    "\n",
    "def response(sentence, show_details=False):\n",
    "    results = classify(sentence)\n",
    "    # if we have a classification then find the matching intent tag\n",
    "    if results:\n",
    "        # loop as long as there are matches to process\n",
    "        while results:\n",
    "            for i in intents['intents']:\n",
    "                # find a tag matching the first result\n",
    "                if i['tag'] == results[0][0]:\n",
    "                    # a random response from the intent\n",
    "                    return random.choice(i['responses'])\n",
    "\n",
    "            results.pop(0)\n",
    "    else:\n",
    "       return \"Sorry, can't understand you\""
   ]
  },
  {
   "cell_type": "code",
   "execution_count": 10,
   "metadata": {
    "colab": {
     "base_uri": "https://localhost:8080/"
    },
    "id": "wLwaNZlxpYro",
    "outputId": "1155628f-8df6-4c5b-85d2-691ffae8718d"
   },
   "outputs": [
    {
     "data": {
      "text/plain": [
       "[]"
      ]
     },
     "execution_count": 10,
     "metadata": {},
     "output_type": "execute_result"
    }
   ],
   "source": [
    "classify('What are you hours of operation?')"
   ]
  },
  {
   "cell_type": "code",
   "execution_count": 11,
   "metadata": {
    "colab": {
     "base_uri": "https://localhost:8080/"
    },
    "id": "u2gfQm4cpcKn",
    "outputId": "f33fb954-7138-4b69-8d88-87fcc59c7049"
   },
   "outputs": [
    {
     "data": {
      "text/plain": [
       "[]"
      ]
     },
     "execution_count": 11,
     "metadata": {},
     "output_type": "execute_result"
    }
   ],
   "source": [
    "classify(' ')"
   ]
  },
  {
   "cell_type": "code",
   "execution_count": 12,
   "metadata": {
    "colab": {
     "base_uri": "https://localhost:8080/",
     "height": 35
    },
    "id": "XBN2u0zrprxC",
    "outputId": "e7af909e-725a-426f-a71f-5132ce948057"
   },
   "outputs": [
    {
     "data": {
      "text/plain": [
       "\"Sorry, can't understand you\""
      ]
     },
     "execution_count": 12,
     "metadata": {},
     "output_type": "execute_result"
    }
   ],
   "source": [
    "response('What are you hours of operation?')"
   ]
  },
  {
   "cell_type": "code",
   "execution_count": 13,
   "metadata": {
    "colab": {
     "base_uri": "https://localhost:8080/",
     "height": 35
    },
    "id": "1XKjgugMptze",
    "outputId": "fa975c3f-4814-4c01-cc58-05d6bdd21a88"
   },
   "outputs": [
    {
     "data": {
      "text/plain": [
       "\"Sorry, can't understand you\""
      ]
     },
     "execution_count": 13,
     "metadata": {},
     "output_type": "execute_result"
    }
   ],
   "source": [
    "response(' ')"
   ]
  },
  {
   "cell_type": "code",
   "execution_count": 14,
   "metadata": {
    "colab": {
     "base_uri": "https://localhost:8080/"
    },
    "id": "5Z81DcEBpwJ-",
    "outputId": "2db84b58-a240-4e9e-bdab-f1b25505ceec"
   },
   "outputs": [
    {
     "name": "stdout",
     "output_type": "stream",
     "text": [
      "I am the Doctor Recommender.\n",
      "If you want to exit, type Bye!\n",
      "Hi there, how can I help?\n",
      "Chatbot : Bye!!! \n"
     ]
    }
   ],
   "source": [
    "flag=True\n",
    "print(\"I am the Doctor Recommender.\\nIf you want to exit, type Bye!\")\n",
    "\n",
    "while(flag==True):\n",
    "    user_response = input(\"You- \")\n",
    "    if(user_response not in ['bye','shutdown','exit', 'quit']):\n",
    "        if(user_response=='thanks' or user_response=='thank you' ):\n",
    "            flag=False\n",
    "            print(\"Chatbot : You are welcome...\")\n",
    "        else:\n",
    "            answer = response(user_response)\n",
    "            print(answer)\n",
    "    else:\n",
    "        flag=False\n",
    "        print(\"Chatbot : Bye!!! \")"
   ]
  }
 ],
 "metadata": {
  "colab": {
   "collapsed_sections": [],
   "name": "Chatbot_keras.ipynb",
   "provenance": []
  },
  "kernelspec": {
   "display_name": "base",
   "language": "python",
   "name": "python3"
  },
  "language_info": {
   "codemirror_mode": {
    "name": "ipython",
    "version": 3
   },
   "file_extension": ".py",
   "mimetype": "text/x-python",
   "name": "python",
   "nbconvert_exporter": "python",
   "pygments_lexer": "ipython3",
   "version": "3.8.12"
  },
  "vscode": {
   "interpreter": {
    "hash": "ad2bdc8ecc057115af97d19610ffacc2b4e99fae6737bb82f5d7fb13d2f2c186"
   }
  }
 },
 "nbformat": 4,
 "nbformat_minor": 1
}
